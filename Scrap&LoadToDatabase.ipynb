{
 "cells": [
  {
   "cell_type": "code",
   "execution_count": null,
   "id": "8ac5ed3f",
   "metadata": {
    "executionInfo": {
     "elapsed": 545,
     "status": "ok",
     "timestamp": 1668622770043,
     "user": {
      "displayName": "shubhanshu kanungo",
      "userId": "17740872798386647060"
     },
     "user_tz": -330
    },
    "id": "8ac5ed3f",
    "scrolled": true
   },
   "outputs": [],
   "source": [
    "#import libraries\n",
    "\n",
    "import pandas as pd\n",
    "import pyodbc, os\n",
    "import requests\n",
    "import time\n",
    "import warnings\n",
    "warnings.filterwarnings('ignore')"
   ]
  },
  {
   "cell_type": "code",
   "execution_count": null,
   "id": "39a2e773",
   "metadata": {
    "executionInfo": {
     "elapsed": 6,
     "status": "ok",
     "timestamp": 1668622772202,
     "user": {
      "displayName": "shubhanshu kanungo",
      "userId": "17740872798386647060"
     },
     "user_tz": -330
    },
    "id": "39a2e773"
   },
   "outputs": [],
   "source": [
    "#keys\n",
    "API_KEY = 'xxxxx'\n",
    "CHANNEL_ID = \"xxxxx\""
   ]
  },
  {
   "cell_type": "code",
   "execution_count": null,
   "id": "WeWj7TyVoy79",
   "metadata": {
    "executionInfo": {
     "elapsed": 6,
     "status": "ok",
     "timestamp": 1668622774095,
     "user": {
      "displayName": "shubhanshu kanungo",
      "userId": "17740872798386647060"
     },
     "user_tz": -330
    },
    "id": "WeWj7TyVoy79"
   },
   "outputs": [],
   "source": [
    "#function to get video statistics\n",
    "\n",
    "def get_video_details(video_id):\n",
    "\n",
    "  url_video_stats = 'https://www.googleapis.com/youtube/v3/videos?id='+video_id+'&part=statistics&key='+API_KEY\n",
    "  response_video_stats = requests.get(url_video_stats).json()\n",
    "\n",
    "  view_count = response_video_stats['items'][0]['statistics']['viewCount']\n",
    "  like_count = response_video_stats['items'][0]['statistics']['likeCount']\n",
    "  comment_count = response_video_stats['items'][0]['statistics']['commentCount']\n",
    "\n",
    "  return view_count,like_count,comment_count"
   ]
  },
  {
   "cell_type": "code",
   "execution_count": null,
   "id": "xTzcHExke1p4",
   "metadata": {
    "executionInfo": {
     "elapsed": 493,
     "status": "ok",
     "timestamp": 1668622933160,
     "user": {
      "displayName": "shubhanshu kanungo",
      "userId": "17740872798386647060"
     },
     "user_tz": -330
    },
    "id": "xTzcHExke1p4"
   },
   "outputs": [],
   "source": [
    "#function to get all videos from youtube channel and save in dataframe\n",
    "\n",
    "def get_videos(df):\n",
    "    #make API call\n",
    "    pageToken = ''\n",
    "    while 1:\n",
    "        url = 'https://www.googleapis.com/youtube/v3/search?key='+API_KEY+'&channel_id='+CHANNEL_ID+'&part=snippet,id&order=date&maxResults=10000&'+pageToken\n",
    "        response = requests.get(url).json()\n",
    "  \n",
    "        time.sleep(1) #give it a second before starting the for loop\n",
    "        \n",
    "        for video in response['items']:\n",
    "            if video['id']['kind'] == 'youtube#video':\n",
    "                video_id = video['id']['videoId']\n",
    "                video_title = video['snippet']['title']\n",
    "                video_title = str(video_title).replace('&amp;','')   #can delete this line if title doesn't consist &amp\n",
    "                upload_date = video['snippet']['publishedAt']\n",
    "                upload_date = str(upload_date).split('T')[0]    #split data from timestamp\n",
    "                \n",
    "                view_count,like_count,comment_count = get_video_details(video_id)\n",
    "      \n",
    "\n",
    "      # save data to df\n",
    "                df = df.append({'video_id':video_id,'video_title':video_title,\n",
    "                       'upload_date':upload_date,'view_count':view_count,\n",
    "                       'like_count':like_count,'comment_count':comment_count},ignore_index=True)\n",
    "    \n",
    "        try:\n",
    "            if response['nextPageToken'] != None:               #if none, it means it reached the last page and break out of it\n",
    "                pageToken = \"pageToken=\" + response['nextPageToken']\n",
    "\n",
    "        except:\n",
    "            break\n",
    "    \n",
    "    return df\n",
    "  \n"
   ]
  },
  {
   "cell_type": "code",
   "execution_count": null,
   "id": "OqpT4KEvEciS",
   "metadata": {
    "executionInfo": {
     "elapsed": 3693,
     "status": "ok",
     "timestamp": 1668622938697,
     "user": {
      "displayName": "shubhanshu kanungo",
      "userId": "17740872798386647060"
     },
     "user_tz": -330
    },
    "id": "OqpT4KEvEciS"
   },
   "outputs": [],
   "source": [
    "#create dataframe to save the response from API call\n",
    "df = pd.DataFrame(columns=['video_id','video_title','upload_date','view_count','like_count','comment_count'])\n",
    "\n",
    "#make the call\n",
    "df = get_videos(df)"
   ]
  },
  {
   "cell_type": "code",
   "execution_count": null,
   "id": "28cb24a4",
   "metadata": {},
   "outputs": [],
   "source": [
    "#function to establish connection with SQL SERVER\n",
    "\n",
    "def connect_db(driver,server,db):\n",
    "    try:\n",
    "        conn = pyodbc.connect(f'Driver={driver};'\n",
    "                      f'Server={server};'\n",
    "                      f'Database={db};'\n",
    "                      'Trusted_Connection=yes;')\n",
    "    except InterfaceError:\n",
    "        raise InterfaceError\n",
    "        \n",
    "    except OperationalError:\n",
    "        raise OperationalError\n",
    "        \n",
    "    except ProgrammingError:\n",
    "        raise ProgrammingError\n",
    "        \n",
    "    else:\n",
    "        print('connected')\n",
    "        \n",
    "    return conn\n"
   ]
  },
  {
   "cell_type": "code",
   "execution_count": null,
   "id": "6efa5028",
   "metadata": {},
   "outputs": [],
   "source": [
    "#function to create table in database\n",
    "def create_table(curr):\n",
    "\n",
    "    create_tbl_command = \"\"\"\n",
    "    IF NOT EXISTS (SELECT * FROM sys.objects WHERE object_id = OBJECT_ID(N'[dbo].[youtube_api]') AND type = N'U')\n",
    "    BEGIN\n",
    "        CREATE TABLE [dbo].[youtube_api] (\n",
    "                    video_id VARCHAR(255) PRIMARY KEY,\n",
    "                    video_title TEXT NOT NULL,\n",
    "                    upload_date DATE NOT NULL,\n",
    "                    view_count INTEGER NOT NULL,\n",
    "                    like_count INTEGER NOT NULL,\n",
    "                    comment_count INTEGER NOT NULL )\n",
    "    END \"\"\"\n",
    "    \n",
    "    curr.execute(create_tbl_command)\n",
    "\n",
    "\n",
    "#function to insert values to table in SQL SERVER database\n",
    "def insert_into_table(curr, df):\n",
    "    \n",
    "    insert_into_videos = \"\"\"INSERT INTO youtube_api (video_id, video_title, upload_date, view_count, like_count, comment_count)\n",
    "                VALUES (?,?,?,?,?,?)\"\"\"\n",
    "    \n",
    "    row_to_insert = df.values.tolist()\n",
    "    \n",
    "    curr.executemany(insert_into_videos, row_to_insert)\n",
    "\n",
    "\n",
    "#function to update the values if videos already exists\n",
    "def update_row(curr, video_id, video_title, view_count, like_count, comment_count):\n",
    "    query = \"\"\"UPDATE youtube_api\n",
    "            SET video_title = ?,\n",
    "                view_count = ?,\n",
    "                like_count = ?,\n",
    "                comment_count = ?\n",
    "            WHERE video_id = ?;\"\"\"\n",
    "    vars_to_update = (video_title, view_count, like_count, comment_count, video_id)\n",
    "    curr.execute(query, vars_to_update)\n",
    "\n",
    "\n",
    "#function to check if video exists or not\n",
    "def check_if_video_exists(curr,video_id):\n",
    "    query = '''SELECT video_id FROM youtube_api WHERE video_id = ?'''\n",
    "    curr.execute(query,(video_id,))\n",
    "    \n",
    "    return curr.fetchone() is not None\n",
    "\n",
    "\n",
    "#updating the database\n",
    "#handling data for scalability\n",
    "\n",
    "def update_db(curr,df):\n",
    "\n",
    "    #temporary dataframe to store new videos \n",
    "    tmp_df = pd.DataFrame(columns=['video_id', 'video_title', 'upload_date', 'view_count',\n",
    "                                   'like_count', 'comment_count'])\n",
    "    for i, row in df.iterrows():\n",
    "        if check_if_video_exists(curr, row['video_id']):    # If video already exists then we will update\n",
    "            update_row(curr,row['video_id'],row['video_title'],row['view_count'],row['like_count'],row['comment_count'])\n",
    "\n",
    "        else:    # The video doesn't exists so we will add it to a temp df and append it using append_from_df_to_db\n",
    "            tmp_df = tmp_df.append(row)\n",
    "\n",
    "    return tmp_df"
   ]
  },
  {
   "cell_type": "code",
   "execution_count": null,
   "id": "52cd10fa",
   "metadata": {},
   "outputs": [],
   "source": [
    "# connect to SQL SERVER database\n",
    "driver = 'SQL Server'\n",
    "server = 'HP\\SQLEXPRESS'\n",
    "db = 'youtube'\n",
    "conn = None\n",
    "\n",
    "conn = connect_db(driver,server,db)\n",
    "curr = conn.cursor()"
   ]
  },
  {
   "cell_type": "code",
   "execution_count": null,
   "id": "294c1517",
   "metadata": {},
   "outputs": [],
   "source": [
    "#create table\n",
    "create_table(curr)"
   ]
  },
  {
   "cell_type": "code",
   "execution_count": null,
   "id": "521ad443",
   "metadata": {},
   "outputs": [],
   "source": [
    "#store new values and videos\n",
    "new_video_df = update_db(curr, df)\n",
    "conn.commit()"
   ]
  },
  {
   "cell_type": "code",
   "execution_count": null,
   "id": "67a33ee1",
   "metadata": {},
   "outputs": [],
   "source": [
    "#insert into table\n",
    "insert_into_table(curr, new_video_df)\n",
    "conn.commit()\n",
    "conn.close()"
   ]
  },
  {
   "cell_type": "code",
   "execution_count": null,
   "id": "4d6ad35a",
   "metadata": {},
   "outputs": [],
   "source": [
    "#view data in db table\n",
    "\n",
    "'''\n",
    "curr.execute(\"SELECT * FROM youtube_api\")\n",
    "print(curr.fetchall())\n",
    "'''"
   ]
  }
 ],
 "metadata": {
  "colab": {
   "provenance": [
    {
     "file_id": "10p5u7pzdnkpi0d5mtu46HA1LHsoB0EYo",
     "timestamp": 1668622136119
    }
   ]
  },
  "kernelspec": {
   "display_name": "Python 3.9.13 ('base')",
   "language": "python",
   "name": "python3"
  },
  "language_info": {
   "codemirror_mode": {
    "name": "ipython",
    "version": 3
   },
   "file_extension": ".py",
   "mimetype": "text/x-python",
   "name": "python",
   "nbconvert_exporter": "python",
   "pygments_lexer": "ipython3",
   "version": "3.9.13"
  },
  "vscode": {
   "interpreter": {
    "hash": "ad2bdc8ecc057115af97d19610ffacc2b4e99fae6737bb82f5d7fb13d2f2c186"
   }
  }
 },
 "nbformat": 4,
 "nbformat_minor": 5
}
