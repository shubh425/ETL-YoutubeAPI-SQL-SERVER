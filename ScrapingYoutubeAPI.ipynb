{
 "cells": [
  {
   "cell_type": "code",
   "execution_count": null,
   "id": "8ac5ed3f",
   "metadata": {
    "id": "8ac5ed3f",
    "scrolled": true
   },
   "outputs": [],
   "source": [
    "# import all important libraries\n",
    "\n",
    "import pandas as pd\n",
    "import requests\n",
    "import time\n",
    "import warnings\n",
    "warnings.filterwarnings('ignore')"
   ]
  },
  {
   "cell_type": "code",
   "execution_count": null,
   "id": "39a2e773",
   "metadata": {
    "id": "39a2e773"
   },
   "outputs": [],
   "source": [
    "#keys\n",
    "API_KEY = 'xxxxx'\n",
    "CHANNEL_ID = \"xxxxx\""
   ]
  },
  {
   "cell_type": "code",
   "execution_count": null,
   "id": "5ff62846",
   "metadata": {},
   "outputs": [],
   "source": [
    "# function to get video statistics\n",
    " \n",
    "def get_video_details(video_id):\n",
    "\n",
    "  url_video_stats = 'https://www.googleapis.com/youtube/v3/videos?id='+video_id+'&part=statistics&key='+API_KEY\n",
    "  response_video_stats = requests.get(url_video_stats).json()\n",
    "\n",
    "  view_count = response_video_stats['items'][0]['statistics']['viewCount']\n",
    "  like_count = response_video_stats['items'][0]['statistics']['likeCount']\n",
    "  comment_count = response_video_stats['items'][0]['statistics']['commentCount']\n",
    "\n",
    "  return view_count,like_count,comment_count"
   ]
  },
  {
   "cell_type": "code",
   "execution_count": null,
   "id": "ad460dda",
   "metadata": {},
   "outputs": [],
   "source": [
    "# function to get video details from API call\n",
    "\n",
    "def get_videos(df):\n",
    "    #make API call\n",
    "    pageToken = ''\n",
    "    while 1:\n",
    "        url = 'https://www.googleapis.com/youtube/v3/search?key='+API_KEY+'&channel_id='+CHANNEL_ID+'&part=snippet,id&order=date&maxResults=10000&'+pageToken\n",
    "        response = requests.get(url).json()\n",
    "  \n",
    "        time.sleep(1) #give it a second before starting the for loop\n",
    "\n",
    "  \n",
    "        \n",
    "        for video in response['items']:\n",
    "            if video['id']['kind'] == 'youtube#video':\n",
    "                video_id = video['id']['videoId']\n",
    "                video_title = video['snippet']['title']\n",
    "                video_title = str(video_title).replace('&amp;','')\n",
    "                upload_date = video['snippet']['publishedAt']\n",
    "                upload_date = str(upload_date).split('T')[0]\n",
    "                \n",
    "                view_count,like_count,comment_count = get_video_details(video_id)\n",
    "      \n",
    "\n",
    "      # save data to df\n",
    "                df = df.append({'video_id':video_id,'video_title':video_title,\n",
    "                       'upload_date':upload_date,'view_count':view_count,\n",
    "                       'like_count':like_count,'comment_count':comment_count},ignore_index=True)\n",
    "    \n",
    "        try:\n",
    "            if response['nextPageToken'] != None: #if none, it means it reached the last page and break out of it\n",
    "                pageToken = \"pageToken=\" + response['nextPageToken']\n",
    "\n",
    "        except:\n",
    "            break\n",
    "    \n",
    "    return df\n",
    " "
   ]
  },
  {
   "cell_type": "code",
   "execution_count": null,
   "id": "OqpT4KEvEciS",
   "metadata": {
    "id": "OqpT4KEvEciS"
   },
   "outputs": [],
   "source": [
    "# create dataframe to store all video details\n",
    "df = pd.DataFrame(columns=['video_id','video_title','upload_date','view_count','like_count','comment_count'])\n",
    "\n",
    "\n",
    "# make a call\n",
    "df = get_videos(df)"
   ]
  },
  {
   "cell_type": "code",
   "execution_count": null,
   "id": "c6cdf32c",
   "metadata": {},
   "outputs": [],
   "source": [
    "#if you want you can save it as csv file\n",
    "\n",
    "df.to_csv('channel', encoding='utf-8', index=False,)"
   ]
  }
 ],
 "metadata": {
  "colab": {
   "provenance": []
  },
  "kernelspec": {
   "display_name": "Python 3.9.13 ('base')",
   "language": "python",
   "name": "python3"
  },
  "language_info": {
   "codemirror_mode": {
    "name": "ipython",
    "version": 3
   },
   "file_extension": ".py",
   "mimetype": "text/x-python",
   "name": "python",
   "nbconvert_exporter": "python",
   "pygments_lexer": "ipython3",
   "version": "3.9.13"
  },
  "vscode": {
   "interpreter": {
    "hash": "ad2bdc8ecc057115af97d19610ffacc2b4e99fae6737bb82f5d7fb13d2f2c186"
   }
  }
 },
 "nbformat": 4,
 "nbformat_minor": 5
}
